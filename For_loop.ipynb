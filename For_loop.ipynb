{
 "cells": [
  {
   "cell_type": "markdown",
   "id": "69f691e9-ae69-4d62-a20c-630e6ee34efb",
   "metadata": {},
   "source": [
    "### 1. Write a Python program to print the numbers from 1 to 10 using a `for` loop."
   ]
  },
  {
   "cell_type": "code",
   "execution_count": 2,
   "id": "08d840d4-c176-4248-9be7-f7959a48bd11",
   "metadata": {},
   "outputs": [
    {
     "name": "stdout",
     "output_type": "stream",
     "text": [
      "1 2 3 4 5 6 7 8 9 10 "
     ]
    }
   ],
   "source": [
    "# Print the numbers from 1 to 10 using for loop\n",
    "for i in range(1,11):\n",
    "    print(i,end=\" \")"
   ]
  },
  {
   "cell_type": "markdown",
   "id": "2b37acb5-1f91-4642-8ee5-04ab84a7de4e",
   "metadata": {},
   "source": [
    "### 2. Create a program that calculates the sum of all numbers in a list using a `for` loop."
   ]
  },
  {
   "cell_type": "code",
   "execution_count": 6,
   "id": "9c9e4fd5-e4f0-40b3-97f7-350d76e034f7",
   "metadata": {},
   "outputs": [
    {
     "name": "stdin",
     "output_type": "stream",
     "text": [
      "Enter the elements of list: 1 2 3 4 5\n"
     ]
    },
    {
     "name": "stdout",
     "output_type": "stream",
     "text": [
      "Sum of elements of given list: 15\n"
     ]
    }
   ],
   "source": [
    "# Enter the list\n",
    "lst1=input(\"Enter the elements of list:\").split()\n",
    "lst=list(int(a) for a in lst1)\n",
    "\n",
    "# find the sum of elements of list\n",
    "sum=0\n",
    "for i in lst:\n",
    "    sum+=i\n",
    "    \n",
    "# Print the sum of elements of list\n",
    "print(\"Sum of elements of given list:\",sum)"
   ]
  },
  {
   "cell_type": "markdown",
   "id": "51c043c4-b52a-4030-b443-5483cd94d945",
   "metadata": {},
   "source": [
    "### 3. Write a program to print the characters of a string in reverse order using a `for` loop."
   ]
  },
  {
   "cell_type": "code",
   "execution_count": 11,
   "id": "01623d3d-b169-41a3-9af5-f54b9090c288",
   "metadata": {},
   "outputs": [
    {
     "name": "stdin",
     "output_type": "stream",
     "text": [
      "Enter a string hello\n"
     ]
    },
    {
     "name": "stdout",
     "output_type": "stream",
     "text": [
      "Reverse the order of string: o l l e h "
     ]
    }
   ],
   "source": [
    "# Enter a string\n",
    "string=input(\"Enter a string\")\n",
    "\n",
    "# Print characters of string in reverse order\n",
    "print(\"Reverse the order of string:\",end=\" \")\n",
    "for i in range(1,len(string)+1):\n",
    "    print(string[-i],end=\" \")"
   ]
  },
  {
   "cell_type": "markdown",
   "id": "c9b1d48a-f50d-438d-ab55-4e397da93dc1",
   "metadata": {},
   "source": [
    "### 4. Develop a program that finds the factorial of a given number using a `for` loop."
   ]
  },
  {
   "cell_type": "code",
   "execution_count": 2,
   "id": "80da5761-8c96-46b4-ac45-b6e087268dc6",
   "metadata": {},
   "outputs": [
    {
     "name": "stdin",
     "output_type": "stream",
     "text": [
      "Enter the number: 5\n"
     ]
    },
    {
     "name": "stdout",
     "output_type": "stream",
     "text": [
      "Factorial of 5 is 120\n"
     ]
    }
   ],
   "source": [
    "# Define a function to find factorial of a number\n",
    "def fact(num):\n",
    "    prod=1\n",
    "    for j in range(1,num+1):\n",
    "        prod*=j\n",
    "    return prod\n",
    "\n",
    "# Enter a number which you want to find factorial\n",
    "n=int(input(\"Enter the number:\"))\n",
    "\n",
    "# Print result\n",
    "print(f\"Factorial of {n} is\",fact(n))"
   ]
  },
  {
   "cell_type": "markdown",
   "id": "f28fae9a-5c3d-40d3-81e0-2ca00efe6fb2",
   "metadata": {},
   "source": [
    "### 5. Create a program to print the multiplication table of a given number using a `for` loop."
   ]
  },
  {
   "cell_type": "code",
   "execution_count": 4,
   "id": "6252a6e3-dbcb-41b3-8579-e0a50d86cee2",
   "metadata": {},
   "outputs": [
    {
     "name": "stdin",
     "output_type": "stream",
     "text": [
      "Enter the number: 5\n"
     ]
    },
    {
     "name": "stdout",
     "output_type": "stream",
     "text": [
      "5 * 1 = 5\n",
      "5 * 2 = 10\n",
      "5 * 3 = 15\n",
      "5 * 4 = 20\n",
      "5 * 5 = 25\n",
      "5 * 6 = 30\n",
      "5 * 7 = 35\n",
      "5 * 8 = 40\n",
      "5 * 9 = 45\n",
      "5 * 10 = 50\n"
     ]
    }
   ],
   "source": [
    "# Enter a number \n",
    "n=int(input(\"Enter the number:\"))\n",
    "\n",
    "# Print the multiplication table of a given number\n",
    "for i in range(1,11):\n",
    "    print(f\"{n} * {i} = {n*i}\")"
   ]
  },
  {
   "cell_type": "markdown",
   "id": "71b857d7-c9d1-47e4-bbb2-f307139d7d89",
   "metadata": {},
   "source": [
    "### 6. Write a program that counts the number of even and odd numbers in a list using a `for` loop."
   ]
  },
  {
   "cell_type": "code",
   "execution_count": 5,
   "id": "a3ab80e8-676f-41c1-8228-52ef5fe2993c",
   "metadata": {},
   "outputs": [
    {
     "name": "stdout",
     "output_type": "stream",
     "text": [
      "Given list is [1, 2, 3, 4, 5, 6, 7, 8, 9, 10]\n",
      "Even terms: 5\n",
      "Odd terms: 5\n"
     ]
    }
   ],
   "source": [
    "# Enter the list\n",
    "lst=list(range(1,11))\n",
    "print(\"Given list is\",lst)\n",
    "\n",
    "# count the even terms and odd terms in list\n",
    "count_even,count_odd=0,0\n",
    "for i in lst:\n",
    "    if (i%2==0):\n",
    "        count_even+=1\n",
    "    else:\n",
    "        count_odd+=1\n",
    "        \n",
    "# Print the count of a even and odd terms in list\n",
    "print(\"Even terms:\",count_even)\n",
    "print(\"Odd terms:\",count_odd)"
   ]
  },
  {
   "cell_type": "markdown",
   "id": "10d16b6d-568e-41c6-9641-53007f515c4e",
   "metadata": {},
   "source": [
    "### 7. Develop a program that prints the squares of numbers from 1 to 5 using a `for` loop. "
   ]
  },
  {
   "cell_type": "code",
   "execution_count": 7,
   "id": "ec370242-8e3f-4535-98cf-9a9d8d8e7931",
   "metadata": {},
   "outputs": [
    {
     "name": "stdout",
     "output_type": "stream",
     "text": [
      "1 4 9 16 25 "
     ]
    }
   ],
   "source": [
    "# Print the squares of numbers from 1 to 5 using for loop\n",
    "for i in range(1,6):\n",
    "    print(i**2,end=\" \")"
   ]
  },
  {
   "cell_type": "markdown",
   "id": "03e29b2e-45d6-45b1-bf77-e11a43317f55",
   "metadata": {},
   "source": [
    "### 8. Create a program to find the length of a string without using the `len()` function."
   ]
  },
  {
   "cell_type": "code",
   "execution_count": 8,
   "id": "44df9bb4-fd31-42a5-aa3d-2142060169cf",
   "metadata": {},
   "outputs": [
    {
     "name": "stdin",
     "output_type": "stream",
     "text": [
      "Enter a string: Hello!\n"
     ]
    },
    {
     "name": "stdout",
     "output_type": "stream",
     "text": [
      "Lenght of a given string: 6\n"
     ]
    }
   ],
   "source": [
    "# Enter string\n",
    "string=str(input(\"Enter a string:\"))\n",
    "\n",
    "# find the length of a string\n",
    "a=0\n",
    "for i in string:\n",
    "    a+=1\n",
    "    \n",
    "# Print the result\n",
    "print(\"Lenght of a given string:\",a)"
   ]
  },
  {
   "cell_type": "markdown",
   "id": "369601da-6cf3-4b89-8d5b-30cf9b9de1ce",
   "metadata": {},
   "source": [
    "### 9. Write a program that calculates the average of a list of numbers using a `for` loop. "
   ]
  },
  {
   "cell_type": "code",
   "execution_count": 9,
   "id": "a0957fcb-bd76-4b20-9e3c-4827e3d2214d",
   "metadata": {},
   "outputs": [
    {
     "name": "stdout",
     "output_type": "stream",
     "text": [
      "The given list: [1, 2, 3, 4, 5, 6, 7, 8]\n",
      "Average of given list: 4.5\n"
     ]
    }
   ],
   "source": [
    "# Take a list of numbers\n",
    "lst=[1,2,3,4,5,6,7,8]\n",
    "print(\"The given list:\",lst)\n",
    "\n",
    "# find the average of a list of numbers using for loop\n",
    "sum=0\n",
    "for i in lst:\n",
    "    sum+=i\n",
    "\n",
    "# Print the average of a given list\n",
    "print(\"Average of given list:\",sum/len(lst))\n",
    "    "
   ]
  },
  {
   "cell_type": "markdown",
   "id": "d92d6928-b2fb-4a9a-983b-1ac2db720ddd",
   "metadata": {},
   "source": [
    "### 10. Develop a program that prints the first `n` Fibonacci numbers using a `for` loop."
   ]
  },
  {
   "cell_type": "code",
   "execution_count": 18,
   "id": "67734721-f1cf-4477-b9f4-2582227afcff",
   "metadata": {},
   "outputs": [
    {
     "name": "stdin",
     "output_type": "stream",
     "text": [
      "Enter a number: 6\n"
     ]
    },
    {
     "name": "stdout",
     "output_type": "stream",
     "text": [
      "First 6 fibonacci numbers:\n",
      "0 1 1 2 3 5 "
     ]
    }
   ],
   "source": [
    "# Enter the number n\n",
    "n=int(input(\"Enter a number:\"))\n",
    "\n",
    "# Print first n fibonacci numbers\n",
    "print(f\"First {n} fibonacci numbers:\")\n",
    "a,b=0,1\n",
    "print(a,b,end=\" \")\n",
    "for i in range(n-2):\n",
    "    ans=a+b\n",
    "    a=b\n",
    "    b=ans\n",
    "    print(ans,end=\" \")"
   ]
  },
  {
   "cell_type": "markdown",
   "id": "2029e89a-b9bf-4a0f-94e8-0fb3eee865b0",
   "metadata": {},
   "source": [
    "### 11. Write a program to check if a given list contains any duplicates using a `for` loop."
   ]
  },
  {
   "cell_type": "code",
   "execution_count": 6,
   "id": "b3d056c1-19b0-4a32-afcc-337aaa51972c",
   "metadata": {},
   "outputs": [
    {
     "name": "stdin",
     "output_type": "stream",
     "text": [
      "Enter the elements of list 2 3 5 1 4 2 3 1\n"
     ]
    },
    {
     "name": "stdout",
     "output_type": "stream",
     "text": [
      "Given list has repeated elements\n"
     ]
    }
   ],
   "source": [
    "# Enter a list\n",
    "lst=input(\"Enter the elements of list\").split()\n",
    "\n",
    "# check if a given list contains any duplicates\n",
    "t=0\n",
    "for i in range(len(lst)):\n",
    "    for j in range(len(lst)):\n",
    "        if (i==j):\n",
    "            pass\n",
    "        else:\n",
    "            if (lst[i]==lst[j]):\n",
    "                t=0\n",
    "            else:\n",
    "                t+=1\n",
    "\n",
    "# Print Result\n",
    "if (t!=0):\n",
    "    print(\"Given list has repeated elements\")\n",
    "else:\n",
    "    print(\"Given list has not repeated elements\")"
   ]
  },
  {
   "cell_type": "markdown",
   "id": "2e87d99a-6148-4488-b4cd-73b1656fbeb5",
   "metadata": {},
   "source": [
    "### 12. Create a program that prints the prime numbers in a given range using a `for` loop."
   ]
  },
  {
   "cell_type": "code",
   "execution_count": 15,
   "id": "ff11f6af-678f-433e-be57-9ca115f2872a",
   "metadata": {},
   "outputs": [
    {
     "name": "stdin",
     "output_type": "stream",
     "text": [
      "Enter lower limit: 1\n",
      "Enter upper limit: 10\n"
     ]
    },
    {
     "name": "stdout",
     "output_type": "stream",
     "text": [
      "Prime numbers between 1 and 10:\n",
      "2 3 5 7 "
     ]
    }
   ],
   "source": [
    "# Enter upper and lower limit of range\n",
    "ll=int(input(\"Enter lower limit:\"))\n",
    "up=int(input(\"Enter upper limit:\"))\n",
    "\n",
    "# function to check prime numbers\n",
    "def is_prime(num):\n",
    "    t=0\n",
    "    for j in range(2,num):\n",
    "        if (num%j==0):\n",
    "            t=0\n",
    "            break\n",
    "        else:\n",
    "            t+=1\n",
    "    return t\n",
    "\n",
    "# Print the prime numbers in a given range        \n",
    "print(f\"Prime numbers between {ll} and {up}:\")   \n",
    "for i in range(ll,up+1):\n",
    "    if (i==1):\n",
    "        pass\n",
    "    if (i==2):\n",
    "        print(i,end=\" \")\n",
    "    if (is_prime(i)!=0):\n",
    "        print(i,end=\" \")"
   ]
  },
  {
   "cell_type": "markdown",
   "id": "a9b09c4a-4cef-42a2-952f-b78b0e44288d",
   "metadata": {},
   "source": [
    "### 13. Develop a program that counts the number of vowels in a string using a `for` loop."
   ]
  },
  {
   "cell_type": "code",
   "execution_count": 4,
   "id": "8036bda0-a214-4706-a19e-f99d9a56b47a",
   "metadata": {},
   "outputs": [
    {
     "name": "stdin",
     "output_type": "stream",
     "text": [
      "Enter a string: Hello\n"
     ]
    },
    {
     "name": "stdout",
     "output_type": "stream",
     "text": [
      "Number of vowels in the given string: 2\n"
     ]
    }
   ],
   "source": [
    "# Enter a string\n",
    "s=str(input(\"Enter a string:\"))\n",
    "vowel=\"aeiou\"\n",
    "\n",
    "# Count the vowels in given string\n",
    "count=0\n",
    "for i in s:\n",
    "    if (i in vowel):\n",
    "        count+=1\n",
    "    if (i in vowel.upper()):\n",
    "        count+=1\n",
    "\n",
    "# Print the result\n",
    "print(\"Number of vowels in the given string:\",count)"
   ]
  },
  {
   "cell_type": "markdown",
   "id": "f3083204-db76-444b-b5aa-3e070d02599f",
   "metadata": {},
   "source": [
    "### 14. Write a program to find the maximum element in a 2D list using a nested `for` loop."
   ]
  },
  {
   "cell_type": "code",
   "execution_count": 7,
   "id": "e6e66c8e-1a28-4fbd-a1b5-53ebd7ef8d05",
   "metadata": {},
   "outputs": [
    {
     "name": "stdout",
     "output_type": "stream",
     "text": [
      "Maximum element: 25\n"
     ]
    }
   ],
   "source": [
    "# Take 2D list\n",
    "lst = [[1, 2, 3, 4],[25, 6, 7, 8],[9, 10, 11, 12],[13, 14, 15, 16]]\n",
    "\n",
    "# Find the maximum element\n",
    "a=[]\n",
    "for i in range(len(lst)):\n",
    "    for j in range(len(lst)):\n",
    "        a.append(lst[i][j])\n",
    "        \n",
    "# print the maximum element of given 2D list\n",
    "print(\"Maximum element:\",max(a))"
   ]
  },
  {
   "cell_type": "markdown",
   "id": "896220f7-1f22-436a-99ea-925dd80d367e",
   "metadata": {},
   "source": [
    "### 15. Create a program that removes all occurrences of a specific element from a list using a `for` loop."
   ]
  },
  {
   "cell_type": "code",
   "execution_count": 7,
   "id": "cb7bb44d-d215-4e0d-96a6-990a7dd3a998",
   "metadata": {},
   "outputs": [
    {
     "name": "stdin",
     "output_type": "stream",
     "text": [
      "Enter elements of the list 1 3 5 7 8 3 2 3\n"
     ]
    },
    {
     "name": "stdout",
     "output_type": "stream",
     "text": [
      "The given list: ['1', '3', '5', '7', '8', '3', '2', '3']\n"
     ]
    },
    {
     "name": "stdin",
     "output_type": "stream",
     "text": [
      "Enter the element which you want to remove 3\n"
     ]
    },
    {
     "name": "stdout",
     "output_type": "stream",
     "text": [
      "List after removing the element: ['1', '5', '7', '8', '2']\n"
     ]
    }
   ],
   "source": [
    "# Enter a list\n",
    "lst=list(input(\"Enter elements of the list\").split())\n",
    "print(\"The given list:\",lst)\n",
    "\n",
    "# Enter specific element of the list\n",
    "element=input(\"Enter the element which you want to remove\")\n",
    "\n",
    "# Remove element from the list\n",
    "for i in lst:\n",
    "    if (i==element):\n",
    "        lst.remove(i)\n",
    "        \n",
    "# Print the list after removing element\n",
    "print(\"List after removing the element:\",lst)"
   ]
  },
  {
   "cell_type": "markdown",
   "id": "2f462fbb-b1b9-4878-94dd-5603f196e2c3",
   "metadata": {},
   "source": [
    "### 16. Develop a program that generates a multiplication table for numbers from 1 to 5 using a nested `for` loop."
   ]
  },
  {
   "cell_type": "code",
   "execution_count": 4,
   "id": "37cec715-3384-4344-8d4a-8699b3706cf0",
   "metadata": {},
   "outputs": [
    {
     "name": "stdout",
     "output_type": "stream",
     "text": [
      "Multiplication table of 1\n",
      "1 * 1 = 1\n",
      "1 * 2 = 2\n",
      "1 * 3 = 3\n",
      "1 * 4 = 4\n",
      "1 * 5 = 5\n",
      "1 * 6 = 6\n",
      "1 * 7 = 7\n",
      "1 * 8 = 8\n",
      "1 * 9 = 9\n",
      "1 * 10 = 10\n",
      "Multiplication table of 2\n",
      "2 * 1 = 2\n",
      "2 * 2 = 4\n",
      "2 * 3 = 6\n",
      "2 * 4 = 8\n",
      "2 * 5 = 10\n",
      "2 * 6 = 12\n",
      "2 * 7 = 14\n",
      "2 * 8 = 16\n",
      "2 * 9 = 18\n",
      "2 * 10 = 20\n",
      "Multiplication table of 3\n",
      "3 * 1 = 3\n",
      "3 * 2 = 6\n",
      "3 * 3 = 9\n",
      "3 * 4 = 12\n",
      "3 * 5 = 15\n",
      "3 * 6 = 18\n",
      "3 * 7 = 21\n",
      "3 * 8 = 24\n",
      "3 * 9 = 27\n",
      "3 * 10 = 30\n",
      "Multiplication table of 4\n",
      "4 * 1 = 4\n",
      "4 * 2 = 8\n",
      "4 * 3 = 12\n",
      "4 * 4 = 16\n",
      "4 * 5 = 20\n",
      "4 * 6 = 24\n",
      "4 * 7 = 28\n",
      "4 * 8 = 32\n",
      "4 * 9 = 36\n",
      "4 * 10 = 40\n",
      "Multiplication table of 5\n",
      "5 * 1 = 5\n",
      "5 * 2 = 10\n",
      "5 * 3 = 15\n",
      "5 * 4 = 20\n",
      "5 * 5 = 25\n",
      "5 * 6 = 30\n",
      "5 * 7 = 35\n",
      "5 * 8 = 40\n",
      "5 * 9 = 45\n",
      "5 * 10 = 50\n"
     ]
    }
   ],
   "source": [
    "# Print the multiplication table of a given number\n",
    "for j in range(1,6):\n",
    "    print(f\"Multiplication table of {j}\")\n",
    "    for i in range(1,11):\n",
    "        print(f\"{j} * {i} = {j*i}\")"
   ]
  },
  {
   "cell_type": "markdown",
   "id": "66031cae-8863-4c81-ba84-c6c764357941",
   "metadata": {},
   "source": [
    "### 17. Write a program that converts a list of Fahrenheit temperatures to Celsius using a `for` loop "
   ]
  },
  {
   "cell_type": "code",
   "execution_count": 9,
   "id": "066f92b4-6f65-4ea3-a065-64b304e37de5",
   "metadata": {},
   "outputs": [
    {
     "name": "stdin",
     "output_type": "stream",
     "text": [
      "Enter the list of Fahrenheit temperatures 45 24 58 24 12 5\n"
     ]
    },
    {
     "name": "stdout",
     "output_type": "stream",
     "text": [
      "list of given Fahrenheit temperatures to Celsius [7.222, -4.444, 14.444, -4.444, -11.111, -15.0]\n"
     ]
    }
   ],
   "source": [
    "# Enter the list of fahrenheit\n",
    "lst_F=list(int(x) for x in input(\"Enter the list of Fahrenheit temperatures\").split())\n",
    "\n",
    "# Convert temperatures to Celsius\n",
    "lst_cel=[]\n",
    "for i in lst_F:\n",
    "    ans=(i-32)*(5/9)\n",
    "    lst_cel.append(round(ans,3))\n",
    "    \n",
    "# Coverted list of Fahrenheit temperatures to Celsius\n",
    "print(\"list of given Fahrenheit temperatures to Celsius\",lst_cel)\n"
   ]
  },
  {
   "cell_type": "markdown",
   "id": "5d9eb9d5-85d5-4fab-aadb-ee21fa080a5c",
   "metadata": {},
   "source": [
    "### 18. Create a program to print the common elements from two lists using a `for` loop"
   ]
  },
  {
   "cell_type": "code",
   "execution_count": 11,
   "id": "b0380f9d-fb4b-4126-b89e-d795b99920a0",
   "metadata": {},
   "outputs": [
    {
     "name": "stdout",
     "output_type": "stream",
     "text": [
      "Common elements from given two list:4 5 6 "
     ]
    }
   ],
   "source": [
    "# Enter two lists\n",
    "lst1=[1,2,3,4,5,6]\n",
    "lst2=[4,5,6,7,8,9]\n",
    "\n",
    "# Print common elements from given two list\n",
    "print(\"Common elements from given two list:\",end='')\n",
    "for i in lst1:\n",
    "    for j in lst2:\n",
    "        if (i==j):\n",
    "            print(i,end=\" \")\n",
    "            "
   ]
  },
  {
   "cell_type": "markdown",
   "id": "666e45b3-f985-4602-8ef9-57a3dfe606f5",
   "metadata": {},
   "source": [
    "### 19. Develop a program that prints the pattern of right-angled triangles using a `for` loop. Use ‘*’ to draw the pattern"
   ]
  },
  {
   "cell_type": "code",
   "execution_count": 14,
   "id": "271ffd60-733f-47e4-867a-1444e747cf1e",
   "metadata": {},
   "outputs": [
    {
     "name": "stdout",
     "output_type": "stream",
     "text": [
      "* \n",
      "* * \n",
      "* * * \n",
      "* * * * \n",
      "* * * * * \n"
     ]
    }
   ],
   "source": [
    "for i in range(5):\n",
    "    for j in range(i+1):\n",
    "        print('*',end=\" \")\n",
    "    print()"
   ]
  },
  {
   "cell_type": "markdown",
   "id": "8ad1b60e-a4c4-4276-a714-eab0ae391a0c",
   "metadata": {},
   "source": [
    "### 20. Write a program to find the greatest common divisor (GCD) of two numbers using a `for` loop."
   ]
  },
  {
   "cell_type": "code",
   "execution_count": null,
   "id": "6f693342-e129-4e53-beed-4a2dc21a7d8e",
   "metadata": {},
   "outputs": [],
   "source": [
    "# Enter two numbers\n",
    "a,b=[int(x) for x in input(\"Enter number\").split()]\n",
    "\n",
    "# Find gcd of two numbers\n",
    "if (a>b):\n",
    "    pass\n",
    "else:\n",
    "    a,b=b,a\n",
    "\n",
    "while(b!=0):\n",
    "    r=a%b\n",
    "    a=b\n",
    "    b=r\n",
    "       \n",
    "# Print gcd of two numbers\n",
    "print(\"GCD of two numbers:\",a)"
   ]
  },
  {
   "cell_type": "markdown",
   "id": "20211d1b-82f3-4d80-a56c-f028a6214a10",
   "metadata": {},
   "source": [
    "### 21. Create a program that calculates the sum of the digits of numbers in a list using a list comprehension."
   ]
  },
  {
   "cell_type": "code",
   "execution_count": 12,
   "id": "d9a2154e-adfb-4bda-85eb-d4ca0abedc4a",
   "metadata": {},
   "outputs": [
    {
     "name": "stdin",
     "output_type": "stream",
     "text": [
      "Enter the elements of list 46 58 24 58 79\n"
     ]
    },
    {
     "name": "stdout",
     "output_type": "stream",
     "text": [
      "Original list: [46, 58, 24, 58, 79]\n",
      "List integer summation: [10, 13, 6, 13, 16]\n"
     ]
    }
   ],
   "source": [
    "# Enter the list\n",
    "lst=list(int(j) for j in input(\"Enter the elements of list\").split())\n",
    "\n",
    "# define a function to find sum of digits\n",
    "def sum_digit(num):\n",
    "    sum1=0\n",
    "    while (num!=0):\n",
    "        r=num%10\n",
    "        sum1+=r\n",
    "        num=num//10\n",
    "    return sum1\n",
    "\n",
    "# make a list\n",
    "lst1=list(sum_digit(i) for i in lst)\n",
    "print(\"Original list:\",lst)\n",
    "print(\"List integer summation:\",lst1)"
   ]
  },
  {
   "cell_type": "markdown",
   "id": "247a63ef-369c-46b8-8520-e6a3dd305a18",
   "metadata": {},
   "source": [
    "### 22. Write a program to find the prime factors of a given number using a `for` loop and list comprehension."
   ]
  },
  {
   "cell_type": "code",
   "execution_count": 1,
   "id": "0c0d85f3-84ca-4773-a074-2641510faa24",
   "metadata": {},
   "outputs": [
    {
     "name": "stdin",
     "output_type": "stream",
     "text": [
      "Enter a number 210\n"
     ]
    },
    {
     "name": "stdout",
     "output_type": "stream",
     "text": [
      "2 3 5 7 "
     ]
    }
   ],
   "source": [
    "# Enter the list\n",
    "n=int(input(\"Enter a number\"))\n",
    "\n",
    "# Define a function to find prime factor\n",
    "def prime_factor(n):\n",
    "    t=0\n",
    "    if (n==2):\n",
    "        return True\n",
    "    for j in range(2,n):\n",
    "        if (n%j==0):\n",
    "            t=0\n",
    "            break\n",
    "        else:\n",
    "            t+=1\n",
    "    if (t!=0):\n",
    "        return True\n",
    "    else:\n",
    "        return False\n",
    "    \n",
    "    \n",
    "# Print prime factors\n",
    "for i in range(2,n+1):\n",
    "    if (n%i==0 and prime_factor(i)==True):\n",
    "        print(i,end=\" \")"
   ]
  },
  {
   "cell_type": "markdown",
   "id": "c90644c2-0f9b-48af-8892-a1e7e81a7168",
   "metadata": {},
   "source": [
    "### 23. Develop a program that extracts unique elements from a list and stores them in a new list using a list comprehension."
   ]
  },
  {
   "cell_type": "code",
   "execution_count": 2,
   "id": "d07e6a37-748b-4383-9f6a-f0f33dfb0653",
   "metadata": {},
   "outputs": [
    {
     "name": "stdin",
     "output_type": "stream",
     "text": [
      "Enter the elements of list 1 2 3 4 5 3 2 1\n"
     ]
    },
    {
     "name": "stdout",
     "output_type": "stream",
     "text": [
      "List of unique elements [1, 2, 3, 4, 5]\n"
     ]
    }
   ],
   "source": [
    "# Enter the list\n",
    "lst=list(int(j) for j in input(\"Enter the elements of list\").split())\n",
    "\n",
    "# Print list of unique elements\n",
    "unique_lst=[ele for ele in set(lst)]\n",
    "print(\"List of unique elements\",unique_lst)"
   ]
  },
  {
   "cell_type": "markdown",
   "id": "4f8e6048-96b0-4fed-99d4-a20c113ebc19",
   "metadata": {},
   "source": [
    "### 24. Create a program that generates a list of all palindromic numbers up to a specified limit using a list comprehension."
   ]
  },
  {
   "cell_type": "code",
   "execution_count": 5,
   "id": "2ddcc564-042c-455b-97b3-9b4c21129765",
   "metadata": {},
   "outputs": [
    {
     "name": "stdin",
     "output_type": "stream",
     "text": [
      "Enter a upper limit 10\n",
      "Enter a lower limit 50\n"
     ]
    },
    {
     "name": "stdout",
     "output_type": "stream",
     "text": [
      "All the palindromic numbers between the given range: [11, 22, 33, 44]\n"
     ]
    }
   ],
   "source": [
    "# Enter the upper and  lower limit \n",
    "up=int(input(\"Enter a upper limit\"))\n",
    "ll=int(input(\"Enter a lower limit\"))\n",
    "lst=[str(x) for x in range(up,ll+1)]\n",
    "\n",
    "# Print the list of all palindromic numbers\n",
    "palindrome=[int(y) for y in lst if (y==y[::-1])]\n",
    "print(\"All the palindromic numbers between the given range:\",palindrome)        "
   ]
  },
  {
   "cell_type": "markdown",
   "id": "de2e11aa-cae4-434e-9bf6-949aef5c9094",
   "metadata": {},
   "source": [
    "### 25. Write a program to flatten a nested list using list comprehension."
   ]
  },
  {
   "cell_type": "code",
   "execution_count": 7,
   "id": "5d2d8c21-bd76-4737-8806-a01788ebd5ca",
   "metadata": {},
   "outputs": [
    {
     "name": "stdout",
     "output_type": "stream",
     "text": [
      "[1, 2, 3, 4, 5, 6, 7]\n"
     ]
    }
   ],
   "source": [
    "# Enter a nested list\n",
    "my_list = [[1], [2, 3], [4, 5, 6, 7]]\n",
    "\n",
    "# print flatten list from nested list\n",
    "flat_list=[x for i in my_list for x in i]\n",
    "print(flat_list)"
   ]
  },
  {
   "cell_type": "markdown",
   "id": "4cfa8b99-0fb5-49ef-8941-000b89adc7ad",
   "metadata": {},
   "source": [
    "### 26. Develop a program that computes the sum of even and odd numbers in a list separately using list comprehension."
   ]
  },
  {
   "cell_type": "code",
   "execution_count": 3,
   "id": "f46d794e-03a3-42a1-8f20-44dbd0852d8a",
   "metadata": {},
   "outputs": [
    {
     "name": "stdout",
     "output_type": "stream",
     "text": [
      "Sum of even numbers in list: 20\n",
      "Sum of odd numbers in list: 25\n"
     ]
    }
   ],
   "source": [
    "# Take a list\n",
    "lst=[1,2,3,4,5,6,7,8,9]\n",
    "\n",
    "# sum of even and odd numbers\n",
    "sum_even=[x for x in lst if (x%2==0)]\n",
    "sum_odd=[x for x in lst if (x%2!=0)]\n",
    "\n",
    "# Print sum of even and odd numbers in the given list\n",
    "print(\"Sum of even numbers in list:\",sum(sum_even))\n",
    "print(\"Sum of odd numbers in list:\",sum(sum_odd))"
   ]
  },
  {
   "cell_type": "markdown",
   "id": "9c0fb94c-b8a5-4aa6-949c-fcaed1ba4725",
   "metadata": {},
   "source": [
    "### 27. Create a program that generates a list of squares of odd numbers between 1 and 10 using list comprehension."
   ]
  },
  {
   "cell_type": "code",
   "execution_count": 4,
   "id": "66fd2c06-a57d-4147-9390-681a7eca54c1",
   "metadata": {},
   "outputs": [
    {
     "name": "stdout",
     "output_type": "stream",
     "text": [
      "[1, 4, 9, 16, 25, 36, 49, 64, 81, 100]\n"
     ]
    }
   ],
   "source": [
    "print([x**2 for x in range(1,11)])"
   ]
  },
  {
   "cell_type": "markdown",
   "id": "24350d00-f599-4929-8b6c-a574238da434",
   "metadata": {},
   "source": [
    "### 28. Write a program that combines two lists into a dictionary using list comprehension."
   ]
  },
  {
   "cell_type": "code",
   "execution_count": 7,
   "id": "f9a52255-17f7-4d54-8449-5adafbe6dd47",
   "metadata": {},
   "outputs": [
    {
     "name": "stdout",
     "output_type": "stream",
     "text": [
      "{'one': 1, 'two': 2, 'three': 3}\n"
     ]
    }
   ],
   "source": [
    "# Enter two list\n",
    "lst1=['one','two','three']\n",
    "lst2=[1,2,3]\n",
    "\n",
    "# Combines two lists into a dictionary \n",
    "dictionary={ lst1[i]: lst2[i] for i in range(len(lst1))}\n",
    "print(dictionary)"
   ]
  },
  {
   "cell_type": "markdown",
   "id": "5b4165ab-9acc-4e40-8439-78464fcc924e",
   "metadata": {},
   "source": [
    "### 29. Develop a program that extracts the vowels from a string and stores them in a list using list comprehension."
   ]
  },
  {
   "cell_type": "code",
   "execution_count": 14,
   "id": "1cf38446-76ff-457c-bb0a-20c9aa62abf5",
   "metadata": {},
   "outputs": [
    {
     "name": "stdin",
     "output_type": "stream",
     "text": [
      "Enter a string Hello\n"
     ]
    },
    {
     "name": "stdout",
     "output_type": "stream",
     "text": [
      "Extracted vowels from the iven string: ['e', 'o']\n"
     ]
    }
   ],
   "source": [
    "# Enter a string\n",
    "a=str(input(\"Enter a string\"))\n",
    "\n",
    "# Extracts vowels from string\n",
    "vowels=[x for x in a if x in \"aeiouAEIOU\"]\n",
    "\n",
    "# Print the result\n",
    "print(\"Extracted vowels from the iven string:\",vowels)"
   ]
  },
  {
   "cell_type": "markdown",
   "id": "e959df09-ca49-4b18-ba3a-3fc4f54cf383",
   "metadata": {},
   "source": [
    "###  30. Create a program that removes all non-numeric characters from a list of strings using list comprehension."
   ]
  },
  {
   "cell_type": "code",
   "execution_count": 1,
   "id": "2b3fab85-e35d-4e74-9d2d-9ad02191c110",
   "metadata": {},
   "outputs": [
    {
     "name": "stdin",
     "output_type": "stream",
     "text": [
      "Enter a string Hello123\n"
     ]
    },
    {
     "name": "stdout",
     "output_type": "stream",
     "text": [
      "list after removing all non-numeric characters: ['1', '2', '3']\n"
     ]
    }
   ],
   "source": [
    "# Enter a string\n",
    "a=str(input(\"Enter a string\"))\n",
    "\n",
    "# Remove all non-numeric characters from list\n",
    "lst=[int(x) for x in a if x.isdigit()]\n",
    "\n",
    "# print list after removing all non-numeric characters\n",
    "print(\"list after removing all non-numeric characters:\",lst)"
   ]
  },
  {
   "cell_type": "markdown",
   "id": "52057328-5a58-4e96-887b-fea84de99b21",
   "metadata": {},
   "source": [
    "### 31. Write a program to generate a list of prime numbers using the Sieve of Eratosthenes algorithm and list comprehension."
   ]
  },
  {
   "cell_type": "code",
   "execution_count": 2,
   "id": "6416264a-0336-49c7-8ded-17a4b6301a2d",
   "metadata": {},
   "outputs": [
    {
     "name": "stdin",
     "output_type": "stream",
     "text": [
      "Enter the number n: 20\n"
     ]
    },
    {
     "name": "stdout",
     "output_type": "stream",
     "text": [
      "2 3 5 7 11 13 17 19 "
     ]
    }
   ],
   "source": [
    "def SieveOfEratosthenes(n):\n",
    "    prime=[True for i in range(n+1)]\n",
    "    p=2\n",
    "    while (p*p<=n):\n",
    "        if (prime[p]==True):\n",
    "            for j in range(p*p,n+1,p):\n",
    "                prime[j]=False\n",
    "        p+=1\n",
    "        \n",
    "    for p in range(2,n+1):\n",
    "        if (prime[p]==True):\n",
    "            print(p,end=\" \")\n",
    "            \n",
    "# Enter the number n\n",
    "n=int(input(\"Enter the number n:\"))\n",
    "SieveOfEratosthenes(n)"
   ]
  },
  {
   "cell_type": "markdown",
   "id": "6593fed9-b0d1-4c2c-88eb-041202fb58ec",
   "metadata": {},
   "source": [
    "### 32. Create a program that generates a list of all Pythagorean triplets up to a specified limit using list comprehension."
   ]
  },
  {
   "cell_type": "code",
   "execution_count": 6,
   "id": "51e71fd9-a977-44a1-9bca-ae7f05a79684",
   "metadata": {},
   "outputs": [
    {
     "name": "stdin",
     "output_type": "stream",
     "text": [
      "Enter a lower limit 1\n",
      "Enter a upper limit 20\n"
     ]
    },
    {
     "name": "stdout",
     "output_type": "stream",
     "text": [
      "[(3, 4, 5), (5, 12, 13), (6, 8, 10), (8, 15, 17), (9, 12, 15), (12, 16, 20)]\n"
     ]
    }
   ],
   "source": [
    "# Enter the upper and  lower limit \n",
    "ll=int(input(\"Enter a lower limit\"))\n",
    "up=int(input(\"Enter a upper limit\"))\n",
    "\n",
    "# Print the list of all Pythagorean triplets up to a specified limit\n",
    "lst=[(x,y,z) for x in range(ll,up+1) for y in range(x,up+1) for z in range(y,up+1) if x**2+y**2==z**2]\n",
    "print(lst)"
   ]
  },
  {
   "cell_type": "markdown",
   "id": "be394cdb-2758-4a19-8b0d-6716c30ae585",
   "metadata": {},
   "source": [
    "### 33. Develop a program that generates a list of all possible combinations of two lists using list comprehension."
   ]
  },
  {
   "cell_type": "code",
   "execution_count": 8,
   "id": "5612cae7-7179-4da4-b561-f403706cc137",
   "metadata": {},
   "outputs": [
    {
     "name": "stdout",
     "output_type": "stream",
     "text": [
      "All possible combination of two list: [[1, 6], [1, 7], [1, 9], [3, 6], [3, 7], [3, 9], [4, 6], [4, 7], [4, 9]]\n"
     ]
    }
   ],
   "source": [
    "# Take a list\n",
    "list1 = [1, 3, 4]\n",
    "list2 = [6, 7, 9]\n",
    "\n",
    "# Print a list that generates a list of all possible combinations of two lists\n",
    "lst=[[x,y] for x in list1 for y in list2]\n",
    "print(\"All possible combination of two list:\",lst)"
   ]
  },
  {
   "cell_type": "markdown",
   "id": "ba8be70c-7c25-43ca-81d7-65603f41f383",
   "metadata": {},
   "source": [
    "### 34. Write a program that calculates the mean, median, and mode of a list of numbers using list comprehension."
   ]
  },
  {
   "cell_type": "code",
   "execution_count": null,
   "id": "0fbb1eca-3c29-46b7-86e9-8874b891fa7a",
   "metadata": {},
   "outputs": [],
   "source": [
    "# Enter the elements of list\n",
    "lst=[int(x) for x in input(\"Enter the elements of list\").split()]\n",
    "\n",
    "# find mean of the given list\n",
    "sum1=0\n",
    "for "
   ]
  },
  {
   "cell_type": "markdown",
   "id": "49353321-fbae-4a66-b36f-4e0573e4f6d1",
   "metadata": {},
   "source": [
    "### 35. Create a program that generates Pascal's triangle up to a specified number of rows using list comprehension."
   ]
  },
  {
   "cell_type": "code",
   "execution_count": 7,
   "id": "8c5d02fe-10e6-4dbf-a5db-7594a33d3a24",
   "metadata": {},
   "outputs": [
    {
     "name": "stdin",
     "output_type": "stream",
     "text": [
      "Enter a number 5\n"
     ]
    },
    {
     "name": "stdout",
     "output_type": "stream",
     "text": [
      "[1]\n",
      "[1, 1]\n",
      "[1, 2, 1]\n",
      "[1, 3, 3, 1]\n",
      "[1, 4, 6, 4, 1]\n"
     ]
    }
   ],
   "source": [
    "import math\n",
    "\n",
    "# Enter a number\n",
    "n=int(input(\"Enter a number\"))\n",
    "\n",
    "# print Pascal's triangle\n",
    "for i in range(n):\n",
    "    print([int(math.factorial(i)/(math.factorial(i-j)*math.factorial(j))) for j in range(i+1)])"
   ]
  },
  {
   "cell_type": "markdown",
   "id": "e839d78d-a186-4fde-8ac5-6a8a23a9b3ff",
   "metadata": {},
   "source": [
    "### 36. Develop a program that calculates the sum of the digits of a factorial of numbers from 1 to 5 using list comprehension."
   ]
  },
  {
   "cell_type": "code",
   "execution_count": 10,
   "id": "30c9a2a0-4ef0-4402-bc48-ea1b676ff0d3",
   "metadata": {},
   "outputs": [
    {
     "name": "stdout",
     "output_type": "stream",
     "text": [
      "List of factorial numbers from 1 to 5: [1, 2, 6, 24, 120]\n",
      "Sum of digits of a factorial numbers from 1 to 5: [1, 2, 6, 6, 3]\n"
     ]
    }
   ],
   "source": [
    "import math\n",
    "\n",
    "# list of factorial of numbers from 1 to 5\n",
    "lst=[math.factorial(i) for i in range(1,6)]\n",
    "print(\"List of factorial numbers from 1 to 5:\",lst)\n",
    "\n",
    "# Function to find sum of digits\n",
    "def sum_fact(n):\n",
    "    sum1=0\n",
    "    while(n!=0):\n",
    "        r=n%10\n",
    "        sum1+=r\n",
    "        n=n//10\n",
    "    return sum1\n",
    "\n",
    "# Print the result\n",
    "sum_list=[sum_fact(x) for x in lst]\n",
    "print(\"Sum of digits of a factorial numbers from 1 to 5:\",sum_list)"
   ]
  },
  {
   "cell_type": "markdown",
   "id": "5876e558-b3fe-4ed9-91f5-0cad522ec115",
   "metadata": {},
   "source": [
    "### 37. Write a program that finds the longest word in a sentence using list comprehension."
   ]
  },
  {
   "cell_type": "code",
   "execution_count": 17,
   "id": "29d996dc-d21e-4067-8281-aad27e7fb079",
   "metadata": {},
   "outputs": [
    {
     "name": "stdin",
     "output_type": "stream",
     "text": [
      "Enter a sentence: Do your work!\n"
     ]
    },
    {
     "name": "stdout",
     "output_type": "stream",
     "text": [
      "['your', 'work']\n"
     ]
    }
   ],
   "source": [
    "import string\n",
    "# Enter a string\n",
    "s=str(input(\"Enter a sentence:\"))\n",
    "s=s.translate(str.maketrans('', '', string.punctuation))\n",
    "\n",
    "# find longest word in a sentence\n",
    "lst=s.split()\n",
    "len_word=[lst[i] for i in range(len(lst)) for j in range(len(lst)) if len(lst[i])>len(lst[j])]\n",
    "print(\"Longest words in the given sentence:\",len_word)"
   ]
  },
  {
   "cell_type": "markdown",
   "id": "07e54437-16dc-4f98-8f73-c1576001bd74",
   "metadata": {},
   "source": [
    "### 38. Create a program that filters a list of strings to include only those with more than three vowels using list comprehension"
   ]
  },
  {
   "cell_type": "code",
   "execution_count": 14,
   "id": "da3bdbb0-1379-491c-9519-0c0e4f5a434c",
   "metadata": {},
   "outputs": [
    {
     "name": "stdout",
     "output_type": "stream",
     "text": [
      "['guava', 'pineapple']\n"
     ]
    }
   ],
   "source": [
    "fruits = [\"mango\", \"kiwi\", \"strawberry\", \"guava\", \"pineapple\"]\n",
    "\n",
    "def vowel(fruits):\n",
    "    count=0\n",
    "    vowel=\"aeiouAEIOU\"\n",
    "    for i in vowel:\n",
    "        count+=fruits.count(i)\n",
    "    if count>2:\n",
    "        return True\n",
    "    return False\n",
    "\n",
    "lst=[fruit for fruit in fruits if vowel(fruit)==True]\n",
    "print(lst)       "
   ]
  },
  {
   "cell_type": "markdown",
   "id": "7dba3681-17cc-4d3d-9c06-637662e84c2d",
   "metadata": {},
   "source": [
    "### 39. Develop a program that calculates the sum of the digits of numbers from 1 to 1000 using list comprehension."
   ]
  },
  {
   "cell_type": "code",
   "execution_count": 5,
   "id": "aa2f4371-4f95-4dac-b18c-aae810fbd849",
   "metadata": {},
   "outputs": [
    {
     "name": "stdout",
     "output_type": "stream",
     "text": [
      "Sum of digits of numbers from 1 to 1000: [1, 2, 3, 4, 5, 6, 7, 8, 9, 1, 2, 3, 4, 5, 6, 7, 8, 9, 10, 2, 3, 4, 5, 6, 7, 8, 9, 10, 11, 3, 4, 5, 6, 7, 8, 9, 10, 11, 12, 4, 5, 6, 7, 8, 9, 10, 11, 12, 13, 5, 6, 7, 8, 9, 10, 11, 12, 13, 14, 6, 7, 8, 9, 10, 11, 12, 13, 14, 15, 7, 8, 9, 10, 11, 12, 13, 14, 15, 16, 8, 9, 10, 11, 12, 13, 14, 15, 16, 17, 9, 10, 11, 12, 13, 14, 15, 16, 17, 18, 1, 2, 3, 4, 5, 6, 7, 8, 9, 10, 2, 3, 4, 5, 6, 7, 8, 9, 10, 11, 3, 4, 5, 6, 7, 8, 9, 10, 11, 12, 4, 5, 6, 7, 8, 9, 10, 11, 12, 13, 5, 6, 7, 8, 9, 10, 11, 12, 13, 14, 6, 7, 8, 9, 10, 11, 12, 13, 14, 15, 7, 8, 9, 10, 11, 12, 13, 14, 15, 16, 8, 9, 10, 11, 12, 13, 14, 15, 16, 17, 9, 10, 11, 12, 13, 14, 15, 16, 17, 18, 10, 11, 12, 13, 14, 15, 16, 17, 18, 19, 2, 3, 4, 5, 6, 7, 8, 9, 10, 11, 3, 4, 5, 6, 7, 8, 9, 10, 11, 12, 4, 5, 6, 7, 8, 9, 10, 11, 12, 13, 5, 6, 7, 8, 9, 10, 11, 12, 13, 14, 6, 7, 8, 9, 10, 11, 12, 13, 14, 15, 7, 8, 9, 10, 11, 12, 13, 14, 15, 16, 8, 9, 10, 11, 12, 13, 14, 15, 16, 17, 9, 10, 11, 12, 13, 14, 15, 16, 17, 18, 10, 11, 12, 13, 14, 15, 16, 17, 18, 19, 11, 12, 13, 14, 15, 16, 17, 18, 19, 20, 3, 4, 5, 6, 7, 8, 9, 10, 11, 12, 4, 5, 6, 7, 8, 9, 10, 11, 12, 13, 5, 6, 7, 8, 9, 10, 11, 12, 13, 14, 6, 7, 8, 9, 10, 11, 12, 13, 14, 15, 7, 8, 9, 10, 11, 12, 13, 14, 15, 16, 8, 9, 10, 11, 12, 13, 14, 15, 16, 17, 9, 10, 11, 12, 13, 14, 15, 16, 17, 18, 10, 11, 12, 13, 14, 15, 16, 17, 18, 19, 11, 12, 13, 14, 15, 16, 17, 18, 19, 20, 12, 13, 14, 15, 16, 17, 18, 19, 20, 21, 4, 5, 6, 7, 8, 9, 10, 11, 12, 13, 5, 6, 7, 8, 9, 10, 11, 12, 13, 14, 6, 7, 8, 9, 10, 11, 12, 13, 14, 15, 7, 8, 9, 10, 11, 12, 13, 14, 15, 16, 8, 9, 10, 11, 12, 13, 14, 15, 16, 17, 9, 10, 11, 12, 13, 14, 15, 16, 17, 18, 10, 11, 12, 13, 14, 15, 16, 17, 18, 19, 11, 12, 13, 14, 15, 16, 17, 18, 19, 20, 12, 13, 14, 15, 16, 17, 18, 19, 20, 21, 13, 14, 15, 16, 17, 18, 19, 20, 21, 22, 5, 6, 7, 8, 9, 10, 11, 12, 13, 14, 6, 7, 8, 9, 10, 11, 12, 13, 14, 15, 7, 8, 9, 10, 11, 12, 13, 14, 15, 16, 8, 9, 10, 11, 12, 13, 14, 15, 16, 17, 9, 10, 11, 12, 13, 14, 15, 16, 17, 18, 10, 11, 12, 13, 14, 15, 16, 17, 18, 19, 11, 12, 13, 14, 15, 16, 17, 18, 19, 20, 12, 13, 14, 15, 16, 17, 18, 19, 20, 21, 13, 14, 15, 16, 17, 18, 19, 20, 21, 22, 14, 15, 16, 17, 18, 19, 20, 21, 22, 23, 6, 7, 8, 9, 10, 11, 12, 13, 14, 15, 7, 8, 9, 10, 11, 12, 13, 14, 15, 16, 8, 9, 10, 11, 12, 13, 14, 15, 16, 17, 9, 10, 11, 12, 13, 14, 15, 16, 17, 18, 10, 11, 12, 13, 14, 15, 16, 17, 18, 19, 11, 12, 13, 14, 15, 16, 17, 18, 19, 20, 12, 13, 14, 15, 16, 17, 18, 19, 20, 21, 13, 14, 15, 16, 17, 18, 19, 20, 21, 22, 14, 15, 16, 17, 18, 19, 20, 21, 22, 23, 15, 16, 17, 18, 19, 20, 21, 22, 23, 24, 7, 8, 9, 10, 11, 12, 13, 14, 15, 16, 8, 9, 10, 11, 12, 13, 14, 15, 16, 17, 9, 10, 11, 12, 13, 14, 15, 16, 17, 18, 10, 11, 12, 13, 14, 15, 16, 17, 18, 19, 11, 12, 13, 14, 15, 16, 17, 18, 19, 20, 12, 13, 14, 15, 16, 17, 18, 19, 20, 21, 13, 14, 15, 16, 17, 18, 19, 20, 21, 22, 14, 15, 16, 17, 18, 19, 20, 21, 22, 23, 15, 16, 17, 18, 19, 20, 21, 22, 23, 24, 16, 17, 18, 19, 20, 21, 22, 23, 24, 25, 8, 9, 10, 11, 12, 13, 14, 15, 16, 17, 9, 10, 11, 12, 13, 14, 15, 16, 17, 18, 10, 11, 12, 13, 14, 15, 16, 17, 18, 19, 11, 12, 13, 14, 15, 16, 17, 18, 19, 20, 12, 13, 14, 15, 16, 17, 18, 19, 20, 21, 13, 14, 15, 16, 17, 18, 19, 20, 21, 22, 14, 15, 16, 17, 18, 19, 20, 21, 22, 23, 15, 16, 17, 18, 19, 20, 21, 22, 23, 24, 16, 17, 18, 19, 20, 21, 22, 23, 24, 25, 17, 18, 19, 20, 21, 22, 23, 24, 25, 26, 9, 10, 11, 12, 13, 14, 15, 16, 17, 18, 10, 11, 12, 13, 14, 15, 16, 17, 18, 19, 11, 12, 13, 14, 15, 16, 17, 18, 19, 20, 12, 13, 14, 15, 16, 17, 18, 19, 20, 21, 13, 14, 15, 16, 17, 18, 19, 20, 21, 22, 14, 15, 16, 17, 18, 19, 20, 21, 22, 23, 15, 16, 17, 18, 19, 20, 21, 22, 23, 24, 16, 17, 18, 19, 20, 21, 22, 23, 24, 25, 17, 18, 19, 20, 21, 22, 23, 24, 25, 26, 18, 19, 20, 21, 22, 23, 24, 25, 26, 27, 1]\n"
     ]
    }
   ],
   "source": [
    "# Make a function to find sum of digits\n",
    "def sum_fact(n):\n",
    "    sum1=0\n",
    "    while(n!=0):\n",
    "        r=n%10\n",
    "        sum1+=r\n",
    "        n=n//10\n",
    "    return sum1\n",
    "\n",
    "# Print the result\n",
    "sum_list=[sum_fact(i) for i in range(1,1001)]\n",
    "print(\"Sum of digits of numbers from 1 to 1000:\",sum_list)"
   ]
  },
  {
   "cell_type": "markdown",
   "id": "96550dda-3847-40c8-9a5e-8e8951e6693c",
   "metadata": {},
   "source": [
    "### 40. Write a program that generates a list of prime palindromic numbers using list comprehension."
   ]
  },
  {
   "cell_type": "code",
   "execution_count": 8,
   "id": "0ff57d1f-bce4-46c0-8116-d0b385653c4b",
   "metadata": {},
   "outputs": [
    {
     "name": "stdin",
     "output_type": "stream",
     "text": [
      "Enter the upper limit: 1000\n"
     ]
    },
    {
     "name": "stdout",
     "output_type": "stream",
     "text": [
      "Prime palindromic numbers: [2, 3, 5, 7, 11, 101, 131, 151, 181, 191, 313, 353, 373, 383, 727, 757, 787, 797, 919, 929]\n"
     ]
    }
   ],
   "source": [
    "# make a function of prime numbers\n",
    "def prime(n):\n",
    "    t=0\n",
    "    if (n==2):\n",
    "        return True\n",
    "    for i in range(2,n):\n",
    "        if (n%i==0):\n",
    "            t=0\n",
    "            break\n",
    "        else:\n",
    "            t+=1\n",
    "    if (t!=0):\n",
    "        return True\n",
    "    else:\n",
    "        return False\n",
    "    \n",
    "# Enter the range\n",
    "n=int(input(\"Enter the upper limit:\"))\n",
    "\n",
    "# list of prime palindromic\n",
    "prime_palindromic=[x for x in range(2,n+1) if str(x)==str(x)[::-1] and prime(x)==True]\n",
    "print(\"Prime palindromic numbers:\",prime_palindromic)"
   ]
  }
 ],
 "metadata": {
  "kernelspec": {
   "display_name": "Python 3 (ipykernel)",
   "language": "python",
   "name": "python3"
  },
  "language_info": {
   "codemirror_mode": {
    "name": "ipython",
    "version": 3
   },
   "file_extension": ".py",
   "mimetype": "text/x-python",
   "name": "python",
   "nbconvert_exporter": "python",
   "pygments_lexer": "ipython3",
   "version": "3.10.8"
  }
 },
 "nbformat": 4,
 "nbformat_minor": 5
}
